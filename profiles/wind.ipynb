{
 "cells": [
  {
   "cell_type": "markdown",
   "id": "helpful-ontario",
   "metadata": {},
   "source": [
    "# I. Wind3 profiles"
   ]
  },
  {
   "cell_type": "markdown",
   "id": "89e36a53-4f7a-42c6-9389-ab27a26d0711",
   "metadata": {},
   "source": [
    "## 1. import modules and constants"
   ]
  },
  {
   "cell_type": "code",
   "execution_count": 10,
   "id": "07526228-423a-4088-a1a8-48924502e68d",
   "metadata": {},
   "outputs": [],
   "source": [
    "import numpy as np\n",
    "from math import pi,log\n",
    "import  matplotlib.pyplot as plt\n",
    "clight=3e10 #cm/s\n",
    "Msun=2e33 #g\n",
    "  "
   ]
  },
  {
   "cell_type": "markdown",
   "id": "014db700-5eda-4c6f-abe7-241779826cf0",
   "metadata": {},
   "source": [
    "## 2. velocity and radius"
   ]
  },
  {
   "cell_type": "code",
   "execution_count": 11,
   "id": "279bc973-a1e3-4f90-ad1f-98f37e276d09",
   "metadata": {},
   "outputs": [],
   "source": [
    "vmax = 0.2*clight\n",
    "vmin = 0.05*clight\n",
    "Rmax = 1e9 #cm\n",
    "Rmin = Rmax*vmin/vmax\n",
    "\n",
    "\n",
    "n_slices=3000\n",
    "V_of_R = np.linspace(vmin,vmax,n_slices)\n",
    "R_coordinates = V_of_R/vmax*Rmax\n"
   ]
  },
  {
   "cell_type": "markdown",
   "id": "7d7a5680-807a-41c8-b011-dc7c52a06760",
   "metadata": {},
   "source": [
    "## 3. mass distribution"
   ]
  },
  {
   "cell_type": "code",
   "execution_count": 12,
   "id": "2352b309-f617-48ff-9f3f-46e4868adbed",
   "metadata": {},
   "outputs": [],
   "source": [
    "\n",
    "Mtotal=0.01*Msun\n",
    "#rho = k/r^3\n",
    "k = Mtotal/(4*pi*log(Rmax/Rmin))\n",
    "\n",
    "Mass_coordinates=np.zeros(n_slices)\n",
    "for i in range(n_slices-1):\n",
    "    Mass_coordinates[i+1] = Mass_coordinates[i] + 4*pi*k*log(R_coordinates[i+1]/R_coordinates[i])\n",
    "\n",
    "Rho = k/(R_coordinates**3)"
   ]
  },
  {
   "cell_type": "markdown",
   "id": "7b045af8-adab-4d02-b4a9-b8a8835cf05d",
   "metadata": {},
   "source": [
    "## 4. temperature, ye, entropy, expansion timescale"
   ]
  },
  {
   "cell_type": "code",
   "execution_count": 13,
   "id": "92af5b64-3306-4bde-97cb-b3b66e74178c",
   "metadata": {},
   "outputs": [],
   "source": [
    "T = 1e9 \n",
    "ye = 0.4\n",
    "entropy = 10.0 #[kb/baryon]\n",
    "tau = 10.0e-3 #[s] "
   ]
  },
  {
   "cell_type": "markdown",
   "id": "e9c80e39-0d7a-4b67-9155-77105ab14393",
   "metadata": {},
   "source": [
    "## 5. output profile"
   ]
  },
  {
   "cell_type": "code",
   "execution_count": 14,
   "id": "4a95bbb1-0d5a-470e-b047-2c41c2f97efe",
   "metadata": {},
   "outputs": [],
   "source": [
    "with open(\"wind3_0.01M_0.2c_ye0.4_s10_tau10.dat\",'w') as outputfile1:\n",
    "    outputfile1.write('#      index      mass[g]      radius[cm]      temperature[K]      density[g/cm^3]      velocity[cm/s]      ye(initial)      entropy[kb/baryon]      expansion_timescale[s]\\n')\n",
    "    outputfile1.write(str(len(R_coordinates))+'\\n')\n",
    "    for i in range(len(R_coordinates)):\n",
    "        s0=str(i+1).rjust(6,\" \")\n",
    "        s1=\"     %.9e\" %Mass_coordinates[i]\n",
    "        s2=\"     %.9e\" %R_coordinates[i]\n",
    "        s3=\"     %.9e\" %T\n",
    "        s4=\"     %.9e\" %Rho[i]\n",
    "        s5=\"     %.9e\" %V_of_R[i]\n",
    "        s6=\"     %.9e\" %ye\n",
    "        s7=\"     %.9e\" %entropy\n",
    "        s8=\"     %.9e\" %tau\n",
    "\n",
    "        outputfile1.write(s0+s1+s2+s3+s4+s5+s6+s7+s8+'\\n')"
   ]
  },
  {
   "cell_type": "code",
   "execution_count": null,
   "id": "bb834571-0038-430a-b7f0-51eff0b99983",
   "metadata": {},
   "outputs": [],
   "source": []
  },
  {
   "cell_type": "markdown",
   "id": "7bdd780d-2f1d-4e5d-801b-2a2ca486223e",
   "metadata": {},
   "source": [
    "# II. Wind38 profiles (k1 = 3, k2 = 8)"
   ]
  },
  {
   "cell_type": "markdown",
   "id": "surgical-petroleum",
   "metadata": {},
   "source": [
    "$ \\rho = a r^{-k1}, r_{min} \\le r<r_{0}$\n",
    "\n",
    "$\\rho = b r^{-k2}, r_{0}\\le r \\le r_{max}$\n",
    "\n",
    "$(a r_{0}^{-k1} = b r_{0}^{-k2}), k2>k1, k2>3$\n",
    "\n",
    "$v \\propto r$\n",
    "\n",
    "$Ye, s(entropy), \\tau(expansion\\ timescale) = const$\n",
    "\n",
    "choice1: $T = const$\n",
    "\n",
    "choice2:\n",
    "$T = const = T_0, r_{min} \\le r<r_{0};$\n",
    "\n",
    "$T = T_0 (\\frac{r_0}{r})^{\\alpha}, r_{0}\\le r \\le r_{max}$"
   ]
  },
  {
   "cell_type": "markdown",
   "id": "decimal-andrews",
   "metadata": {},
   "source": [
    "## 1. import modules and constants"
   ]
  },
  {
   "cell_type": "code",
   "execution_count": 7,
   "id": "spatial-clone",
   "metadata": {},
   "outputs": [],
   "source": [
    "import numpy as np\n",
    "from math import pi,log\n",
    "import  matplotlib.pyplot as plt\n",
    "clight=3e10 #cm/s\n",
    "Msun=2e33 #g\n",
    "  "
   ]
  },
  {
   "cell_type": "markdown",
   "id": "stainless-siemens",
   "metadata": {},
   "source": [
    "## 2. choose velocity and rmin,r0,rmax"
   ]
  },
  {
   "cell_type": "code",
   "execution_count": 8,
   "id": "committed-champagne",
   "metadata": {},
   "outputs": [],
   "source": [
    "vmax = 0.2*clight\n",
    "v0 = 0.15*clight\n",
    "vmin = 0.05*clight\n",
    "\n",
    "rmax = 1e9 #cm\n",
    "r0 = v0/vmax*rmax\n",
    "rmin = vmin/vmax*rmax\n",
    "\n",
    "\n",
    "n_slices=3000\n",
    "Velocity = np.linspace(vmin,vmax,n_slices)\n",
    "Radius = Velocity/vmax*rmax\n",
    "Mass=np.zeros(n_slices)\n",
    "Density = np.zeros(n_slices)\n"
   ]
  },
  {
   "cell_type": "markdown",
   "id": "derived-squad",
   "metadata": {},
   "source": [
    "## 3. mass distribution"
   ]
  },
  {
   "cell_type": "code",
   "execution_count": 16,
   "id": "olympic-visiting",
   "metadata": {},
   "outputs": [],
   "source": [
    "Mtotal=0.01*Msun\n",
    "k1 = 3\n",
    "k2 = 8\n",
    "\n",
    "assert k2>k1,\"k2 must be larer than k1\"\n",
    "assert k2>3,\"k2 must be larger than 3\"\n",
    "\n",
    "if (k1!=3):\n",
    "    b_over_a = r0**(k2-k1)\n",
    "    M_over_a = (r0**(3-k1)-rmin**(3-k1))/(3-k1) + (rmax**(3-k2)-r0**(3-k2))/(3-k2)*b_over_a\n",
    "    M_over_a *= 4*pi\n",
    "    a = Mtotal/M_over_a\n",
    "    b = b_over_a * a\n",
    "    \n",
    "    rho_outer = b/rmax**k2\n",
    "    assert rho_outer>0,\"density at outer boundary must be positive!\"\n",
    "    \n",
    "if (k1==3):\n",
    "    b_over_a = r0**(k2-k1)\n",
    "    M_over_a = np.log(r0/rmin) + (rmax**(3-k2)-r0**(3-k2))/(3-k2)*b_over_a\n",
    "    M_over_a *= 4*pi\n",
    "    a = Mtotal/M_over_a\n",
    "    b = b_over_a * a\n",
    "    \n",
    "    rho_outer = b/rmax**k2\n",
    "    assert rho_outer>0,\"density at outer boundary must be positive!\"\n",
    "    \n",
    "for i in range(len(Radius)):\n",
    "    r = Radius[i]\n",
    "    if (rmin <= r < r0):\n",
    "        Density[i] = a/r**k1\n",
    "        if (k1!=3):\n",
    "            Mass[i] = (r**(3-k1)-rmin**(3-k1))/(3-k1)*4*pi*a\n",
    "        elif (k1==3):\n",
    "            Mass[i] = 4*pi*a*np.log(r/rmin)\n",
    "            \n",
    "        \n",
    "    elif (r0<= r <= rmax):\n",
    "        Density[i] = b/r**k2\n",
    "        if (k1!=3):\n",
    "            M0 = (r0**(3-k1)-rmin**(3-k1))/(3-k1)*4*pi*a\n",
    "        elif (k1==3):\n",
    "            M0 = 4*pi*a*np.log(r0/rmin)\n",
    "        Mass[i] = M0 + (r**(3-k2)-r0**(3-k2))/(3-k2)*4*pi*b\n",
    "        \n",
    "    \n",
    "\n",
    "\n"
   ]
  },
  {
   "cell_type": "markdown",
   "id": "particular-feedback",
   "metadata": {},
   "source": [
    "## 4.choose temperature, ye, entropy, expansion timescale"
   ]
  },
  {
   "cell_type": "code",
   "execution_count": 10,
   "id": "friendly-panama",
   "metadata": {},
   "outputs": [],
   "source": [
    "\n",
    "ye = 0.4\n",
    "entropy = 10.0 #[kb/baryon]\n",
    "tau = 10.0e-3 #[s] \n",
    "\n",
    "T0 = 1e9 \n",
    "alpha = 8\n",
    "Temperature = np.zeros(len(Radius))\n",
    "for i in range(len(Temperature)):\n",
    "    if Radius[i] <= r0:\n",
    "        Temperature[i] = T0\n",
    "    else:\n",
    "        #choice 1: T = const\n",
    "        Temperature[i] = T0\n",
    "        \n",
    "        #choice 2: T powerlaw decrease near outer boundary\n",
    "        #Temperature[i] = T0*(r0/Radius[i])**alpha\n"
   ]
  },
  {
   "cell_type": "markdown",
   "id": "durable-brooklyn",
   "metadata": {},
   "source": [
    "## 5. output profiles and plots"
   ]
  },
  {
   "cell_type": "code",
   "execution_count": 11,
   "id": "celtic-praise",
   "metadata": {},
   "outputs": [],
   "source": [
    "\n",
    "filename=\"wind38_0.01M_0.2c_ye0.4_s10_tau10.dat\"\n",
    "with open(filename,'w') as outputfile1:\n",
    "    outputfile1.write('#      index      mass[g]      radius[cm]      temperature[K]      density[g/cm^3]      velocity[cm/s]      ye(initial)      entropy[kb/baryon]      expansion_timescale[s]\\n')\n",
    "    outputfile1.write(str(len(Radius))+'\\n')\n",
    "    for i in range(len(Radius)):\n",
    "        s0=str(i+1).rjust(6,\" \")\n",
    "        s1=\"     %.9e\" %Mass[i]\n",
    "        s2=\"     %.9e\" %Radius[i]\n",
    "        s3=\"     %.9e\" %Temperature[i]\n",
    "        s4=\"     %.9e\" %Density[i]\n",
    "        s5=\"     %.9e\" %Velocity[i]\n",
    "        s6=\"     %.9e\" %ye\n",
    "        s7=\"     %.9e\" %entropy\n",
    "        s8=\"     %.9e\" %tau\n",
    "\n",
    "        outputfile1.write(s0+s1+s2+s3+s4+s5+s6+s7+s8+'\\n')\n"
   ]
  },
  {
   "cell_type": "code",
   "execution_count": 12,
   "id": "attended-grave",
   "metadata": {},
   "outputs": [
    {
     "data": {
      "text/plain": [
       "Text(0.5, 0.98, 'wind 3-8 profile, M=0.01Msun \\n(k1=3, k2=8)')"
      ]
     },
     "execution_count": 12,
     "metadata": {},
     "output_type": "execute_result"
    },
    {
     "data": {
      "image/png": "[encoded data removed]",
      "text/plain": [
       "<Figure size 432x288 with 2 Axes>"
      ]
     },
     "metadata": {
      "needs_background": "light"
     },
     "output_type": "display_data"
    }
   ],
   "source": [
    "fig = plt.figure()\n",
    "ax1=fig.add_subplot()\n",
    "ax1.plot(Radius,Density,'b-',label='Density')\n",
    "ax1.set_xscale('log')\n",
    "ax1.set_yscale('log')\n",
    "\n",
    "ax1.set_xlabel('Radius [cm]')\n",
    "ax1.set_ylabel('Density $[g/cm^3]$')\n",
    "plt.legend()\n",
    "\n",
    "ax2 = ax1.twinx()\n",
    "ax2.plot(Radius,Velocity/3e10,'r-',label='Velocity')\n",
    "ax2.set_yscale('log')\n",
    "ax2.set_ylabel('Velocity [c]')\n",
    "ax2.text(3.5e8,0.06,'$v \\propto r$',fontsize=15)\n",
    "\n",
    "plt.legend()\n",
    "plt.suptitle('wind 3-8 profile, M=0.01Msun \\n(k1=3, k2=8)')"
   ]
  },
  {
   "cell_type": "code",
   "execution_count": 13,
   "id": "running-income",
   "metadata": {},
   "outputs": [
    {
     "data": {
      "text/plain": [
       "[<matplotlib.lines.Line2D at 0x7ffab9430760>]"
      ]
     },
     "execution_count": 13,
     "metadata": {},
     "output_type": "execute_result"
    },
    {
     "data": {
      "image/png": "[encoded data removed]",
      "text/plain": [
       "<Figure size 432x288 with 1 Axes>"
      ]
     },
     "metadata": {
      "needs_background": "light"
     },
     "output_type": "display_data"
    }
   ],
   "source": [
    "plt.plot(Radius,Temperature)\n",
    "    "
   ]
  },
  {
   "cell_type": "markdown",
   "id": "d7517866-7033-43c6-b659-8e84a092e8cf",
   "metadata": {},
   "source": [
    "# III. Wind-Ex profile (wind3+exponential decay, to be finished)"
   ]
  },
  {
   "cell_type": "markdown",
   "id": "f65a8861-a643-4376-a4d8-ff38bc1c3704",
   "metadata": {},
   "source": [
    "$ \\rho = a r^{-k1}, r_{min} \\le r<r_{0}$\n",
    "\n",
    "$\\rho = b e^{-r}, r_{0}\\le r \\le r_{max}$\n",
    "\n",
    "$a r_0^{-k1} = b e^{-r_0}$"
   ]
  },
  {
   "cell_type": "code",
   "execution_count": 10,
   "id": "1b6ff4ab-9f78-45cb-bb28-263fc24b509a",
   "metadata": {},
   "outputs": [],
   "source": []
  },
  {
   "cell_type": "code",
   "execution_count": null,
   "id": "3bff6161-8a75-497d-a6f4-1da5ed3dfbcc",
   "metadata": {},
   "outputs": [],
   "source": []
  }
 ],
 "metadata": {
  "kernelspec": {
   "display_name": "Python 3",
   "language": "python",
   "name": "python3"
  },
  "language_info": {
   "codemirror_mode": {
    "name": "ipython",
    "version": 3
   },
   "file_extension": ".py",
   "mimetype": "text/x-python",
   "name": "python",
   "nbconvert_exporter": "python",
   "pygments_lexer": "ipython3",
   "version": "3.8.5"
  }
 },
 "nbformat": 4,
 "nbformat_minor": 5
}
